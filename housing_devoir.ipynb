{
  "cells": [
    {
      "cell_type": "code",
      "execution_count": null,
      "metadata": {
        "id": "c5dbP_0Ybm4t"
      },
      "outputs": [],
      "source": [
        "# auteurs:\n",
        "#     KODZO Michel\n",
        "#     SAKPA Freeman \n",
        "#     projets scolaires"
      ]
    },
    {
      "cell_type": "code",
      "execution_count": null,
      "metadata": {
        "id": "YafafAY1bm4z"
      },
      "outputs": [],
      "source": [
        "#importation des bibliotheque\n",
        "\n",
        "import numpy as np\n",
        "import pandas as pd\n",
        "import sklearn \n",
        "from sklearn.model_selection import train_test_split \n",
        "\n",
        "import matplotlib.pyplot as plt\n",
        "print(pd.__version__)\n",
        "print(np.__version__)\n",
        "print(sklearn.__version__)\n",
        "\n",
        "\n"
      ]
    },
    {
      "cell_type": "code",
      "execution_count": null,
      "metadata": {
        "id": "l0nYATGdbm41"
      },
      "outputs": [],
      "source": [
        "#affichage des données\n",
        "housing = pd.read_csv('./housing.csv')\n",
        "housing.head()"
      ]
    },
    {
      "cell_type": "code",
      "execution_count": null,
      "metadata": {
        "id": "1lwy8jSEbm42"
      },
      "outputs": [],
      "source": [
        "housing.info()"
      ]
    },
    {
      "cell_type": "code",
      "execution_count": null,
      "metadata": {
        "id": "ZwACBGPHbm43"
      },
      "outputs": [],
      "source": [
        "# categorisation des distances\n",
        "housing[\"ocean_proximity\"].value_counts()"
      ]
    },
    {
      "cell_type": "code",
      "execution_count": null,
      "metadata": {
        "id": "OVulmh2bbm43"
      },
      "outputs": [],
      "source": [
        "#resumé des donnés\n",
        "housing.describe()"
      ]
    },
    {
      "cell_type": "code",
      "execution_count": null,
      "metadata": {
        "id": "xZGdSh0wbm44"
      },
      "outputs": [],
      "source": [
        "#histogrammes des donnés\n",
        "housing.hist(bins=50, figsize=(20,15))\n",
        "plt.show()\n"
      ]
    },
    {
      "cell_type": "code",
      "execution_count": null,
      "metadata": {
        "id": "bchd2b5zbm44"
      },
      "outputs": [],
      "source": [
        "#on reserve 20% des ressources pour le test\n",
        "from sklearn.model_selection import train_test_split\n",
        "train_set, test_set = train_test_split(housing, test_size=0.2, random_state=42)\n",
        "\n",
        "\n",
        "print(len(train_set), \"données entrainement +\", len(test_set), \"données test\")"
      ]
    },
    {
      "cell_type": "code",
      "execution_count": null,
      "metadata": {
        "id": "9-fx0Xfibm45"
      },
      "outputs": [],
      "source": [
        "housing[\"income_cat\"] = np.ceil(housing[\"median_income\"] / 1.5)\n",
        "housing[\"income_cat\"].where(housing[\"income_cat\"] < 5, 5.0, inplace=True)\n",
        "\n",
        "from sklearn.model_selection import StratifiedShuffleSplit\n",
        "split = StratifiedShuffleSplit(n_splits=1, test_size=0.2, random_state=42)\n",
        "\n",
        "for train_index, test_index in split.split(housing, housing[\"income_cat\"]):\n",
        "    strat_train_set = housing.loc[train_index]\n",
        "    strat_test_set = housing.loc[test_index]\n",
        "strat_train_set.head()"
      ]
    },
    {
      "cell_type": "code",
      "source": [
        "housing[\"income_cat\"].value_counts() /len(housing)\n",
        "# drop the income_cat column\n",
        "for set in (strat_train_set, strat_test_set):\n",
        "    set.drop([\"income_cat\"], axis=1, inplace=True)\n",
        "strat_train_set.head()"
      ],
      "metadata": {
        "id": "LhQx-APAWDqV"
      },
      "execution_count": null,
      "outputs": []
    },
    {
      "cell_type": "code",
      "execution_count": null,
      "metadata": {
        "id": "mHpqML-obm46"
      },
      "outputs": [],
      "source": [
        "\n",
        "\n",
        "housing = strat_train_set.copy()\n",
        "housing.plot(kind=\"scatter\", x=\"longitude\", y=\"latitude\", alpha=0.4, s=housing[\"population\"]/100, \n",
        "             label=\"population\", c=\"median_house_value\", cmap=plt.get_cmap(\"jet\"), colorbar=True,\n",
        "            )\n",
        "plt.legend()\n",
        "housing.head()"
      ]
    },
    {
      "cell_type": "code",
      "execution_count": null,
      "metadata": {
        "id": "p40CX9v1bm46"
      },
      "outputs": [],
      "source": [
        "#matrice de dorrelation\n",
        "corr_matrix = housing.corr()\n",
        "corr_matrix[\"median_house_value\"].sort_values(ascending=False)"
      ]
    },
    {
      "cell_type": "code",
      "execution_count": null,
      "metadata": {
        "id": "ssWHdZepbm47"
      },
      "outputs": [],
      "source": [
        "#matrice de dispersion\n",
        "from pandas.plotting import scatter_matrix\n",
        "attributes = [\"median_house_value\", \"median_income\", \"total_rooms\", \"housing_median_age\"]\n",
        "scatter_matrix(housing[attributes], figsize=(12,8))"
      ]
    },
    {
      "cell_type": "code",
      "execution_count": null,
      "metadata": {
        "id": "X3c0SxzTbm48"
      },
      "outputs": [],
      "source": [
        "housing.plot(kind=\"scatter\", x=\"median_income\", y=\"median_house_value\", alpha=0.1)"
      ]
    },
    {
      "cell_type": "code",
      "execution_count": null,
      "metadata": {
        "id": "PRLkxhEabm49"
      },
      "outputs": [],
      "source": [
        "housing[\"rooms_per_household\"] = housing[\"total_rooms\"] / housing[\"households\"]\n",
        "housing[\"bedrooms_per_room\"] = housing[\"total_bedrooms\"] / housing[\"total_rooms\"]\n",
        "housing[\"population_per_household\"] = housing[\"population\"] / housing[\"households\"]\n",
        "#corr_matrix = housing.corr()\n",
        "#corr_matrix[\"median_house_value\"].sort_values(ascending=False)\n",
        "housing.head()"
      ]
    },
    {
      "cell_type": "code",
      "source": [
        "# creer X et y \n",
        "housing = strat_train_set.drop(\"median_house_value\", axis=1)\n",
        "housing_labels = strat_train_set[\"median_house_value\"].copy()\n",
        "housing.head()"
      ],
      "metadata": {
        "id": "mYs2-dyGeR1E"
      },
      "execution_count": null,
      "outputs": []
    },
    {
      "cell_type": "code",
      "source": [
        "#fill median value for missing total_bedrooms\n",
        "median = housing[\"total_bedrooms\"].median()\n",
        "housing[\"total_bedrooms\"].fillna(median)\n",
        "housing.info()\n",
        "print(median)\n"
      ],
      "metadata": {
        "id": "wafSNOw3XweE"
      },
      "execution_count": null,
      "outputs": []
    },
    {
      "cell_type": "code",
      "source": [
        "housing_cat = housing[\"ocean_proximity\"]\n",
        "from sklearn.preprocessing import LabelBinarizer\n",
        "encoder = LabelBinarizer()\n",
        "housing_cat_1hot = encoder.fit_transform(housing_cat)\n",
        "housing_cat_1hot"
      ],
      "metadata": {
        "id": "eaICFh8sAuoj"
      },
      "execution_count": null,
      "outputs": []
    },
    {
      "cell_type": "code",
      "source": [
        "from sklearn.base import BaseEstimator, TransformerMixin\n",
        "\n",
        "rooms_ix, bedroom_ix, population_ix, household_ix = 3,4,5,6\n",
        "\n",
        "class CombinedAttributesAdder(BaseEstimator, TransformerMixin):\n",
        "    def __init__(self, add_bedrooms_per_room = True):\n",
        "        self.add_bedrooms_per_room = add_bedrooms_per_room\n",
        "    def fit(self, X, y=None):\n",
        "        return self\n",
        "    def transform(self, X, y=None):\n",
        "        rooms_per_household = X[:, rooms_ix] / X[:, household_ix]\n",
        "        population_per_household = X[:, population_ix] / X[:, household_ix]\n",
        "        if self.add_bedrooms_per_room:\n",
        "            bedrooms_per_room = X[:, bedroom_ix] / X[:, rooms_ix]\n",
        "            return np.c_[X, rooms_per_household, population_per_household, bedrooms_per_room]\n",
        "        else:\n",
        "            return np.c_[X, rooms_per_household, population_per_household]\n",
        "\n",
        "attr_adder = CombinedAttributesAdder(add_bedrooms_per_room=False)\n",
        "housing_extra_attribs = attr_adder.transform(housing.values)\n",
        "housing_extra_attribs[0]"
      ],
      "metadata": {
        "colab": {
          "base_uri": "https://localhost:8080/"
        },
        "id": "ivODsu5ZMO6G",
        "outputId": "a3edf593-c067-4f72-f76f-ed8797f589e7"
      },
      "execution_count": 28,
      "outputs": [
        {
          "output_type": "execute_result",
          "data": {
            "text/plain": [
              "array([-121.46, 38.52, 29.0, 3873.0, 797.0, 2237.0, 706.0, 2.1736,\n",
              "       'INLAND', 5.485835694050992, 3.168555240793201], dtype=object)"
            ]
          },
          "metadata": {},
          "execution_count": 28
        }
      ]
    },
    {
      "cell_type": "code",
      "source": [
        "housing.head()"
      ],
      "metadata": {
        "id": "4kQdzcvpYOhT"
      },
      "execution_count": null,
      "outputs": []
    },
    {
      "cell_type": "code",
      "source": [
        "housing_num = housing.drop(\"ocean_proximity\", axis=1)\n",
        "from sklearn.pipeline import Pipeline\n",
        "from sklearn.preprocessing import StandardScaler\n",
        "from sklearn.impute import SimpleImputer\n",
        "from sklearn.pipeline import FeatureUnion\n",
        "\n",
        "class DataFrameSelector(BaseEstimator, TransformerMixin):\n",
        "    def __init__(self, attribute_names):\n",
        "        self.attribute_names = attribute_names\n",
        "    def fit(self, X, y=None):\n",
        "        return self\n",
        "    def transform(self, X):\n",
        "        return X[self.attribute_names].values\n",
        "\n",
        "\n",
        "class CustomBinarizer(BaseEstimator, TransformerMixin):\n",
        "    def fit(self, X, y=None,**fit_params):\n",
        "        return self\n",
        "    def transform(self, X):\n",
        "        return LabelBinarizer().fit(X).transform(X)\n",
        "\n",
        "num_attribs = list(housing_num)\n",
        "cat_attribs = [\"ocean_proximity\"]\n",
        "\n",
        "num_pipeline = Pipeline([\n",
        "    ('selector', DataFrameSelector(num_attribs)),\n",
        "    ('imputer', SimpleImputer(strategy=\"median\")),\n",
        "    ('attributes_adder', CombinedAttributesAdder()),\n",
        "    ('std_scaler', StandardScaler()),\n",
        "])\n",
        "\n",
        "cat_pipeline = Pipeline ([\n",
        "    ('selector', DataFrameSelector(cat_attribs)),\n",
        "    ('custom_binarizer', CustomBinarizer() ),\n",
        "#    ('label_binarizer', LabelBinarizer()),\n",
        "])\n",
        "\n",
        "full_pipeline = FeatureUnion(transformer_list=[\n",
        "    (\"num_pipeline\", num_pipeline),\n",
        "    (\"cat_pipeline\", cat_pipeline),\n",
        "])\n",
        "\n",
        "# run the pipeline\n",
        "housing_prepared = full_pipeline.fit_transform(housing)\n",
        "housing_prepared[0,:]"
      ],
      "metadata": {
        "colab": {
          "base_uri": "https://localhost:8080/"
        },
        "id": "6a8h3mQAMXxx",
        "outputId": "4cf8eded-0658-444b-a9a4-41bf7493b5c9"
      },
      "execution_count": 34,
      "outputs": [
        {
          "output_type": "execute_result",
          "data": {
            "text/plain": [
              "array([-0.94135046,  1.34743822,  0.02756357,  0.58477745,  0.64037127,\n",
              "        0.73260236,  0.55628602, -0.8936472 ,  0.01739526,  0.00622264,\n",
              "       -0.12112176,  0.        ,  1.        ,  0.        ,  0.        ,\n",
              "        0.        ])"
            ]
          },
          "metadata": {},
          "execution_count": 34
        }
      ]
    },
    {
      "cell_type": "code",
      "source": [
        "\n",
        "from sklearn.linear_model import LinearRegression\n",
        "from sklearn.metrics import mean_squared_error\n",
        "lin_reg = LinearRegression()\n",
        "lin_reg.fit(housing_prepared, housing_labels)\n",
        "\n",
        "\n",
        "housing_predictions = lin_reg.predict(housing_prepared)\n",
        "lin_mse = mean_squared_error(housing_labels, housing_predictions)\n",
        "lin_rmse = np.sqrt(lin_mse)\n",
        "lin_rmse"
      ],
      "metadata": {
        "colab": {
          "base_uri": "https://localhost:8080/"
        },
        "id": "CicpiOHXhpeY",
        "outputId": "c4ac24d8-e56a-48a5-9cd0-83933e275897"
      },
      "execution_count": 35,
      "outputs": [
        {
          "output_type": "execute_result",
          "data": {
            "text/plain": [
              "68627.87390018745"
            ]
          },
          "metadata": {},
          "execution_count": 35
        }
      ]
    },
    {
      "cell_type": "code",
      "source": [
        "from sklearn.tree import DecisionTreeRegressor\n",
        "tree_reg = DecisionTreeRegressor()\n",
        "tree_reg.fit(housing_prepared, housing_labels)\n",
        "housing_predictions = tree_reg.predict(housing_prepared)\n",
        "tree_mse = mean_squared_error(housing_labels, housing_predictions)\n",
        "tree_rmse = np.sqrt(tree_mse)\n",
        "tree_rmse\n"
      ],
      "metadata": {
        "colab": {
          "base_uri": "https://localhost:8080/"
        },
        "id": "v2m4YqFsMrLf",
        "outputId": "83e9d756-64bd-45a6-d5f0-a44b086190e5"
      },
      "execution_count": 36,
      "outputs": [
        {
          "output_type": "execute_result",
          "data": {
            "text/plain": [
              "0.0"
            ]
          },
          "metadata": {},
          "execution_count": 36
        }
      ]
    },
    {
      "cell_type": "code",
      "source": [
        "from sklearn.model_selection import cross_val_score\n",
        "scores = cross_val_score(tree_reg, housing_prepared, housing_labels, scoring=\"neg_mean_squared_error\",\n",
        "                        cv=10)\n",
        "tree_rmse_scores = np.sqrt(-scores)\n",
        "def display_scores(scores):\n",
        "    print(\"scores:\", scores)\n",
        "    print(\"Mean:\", scores.mean())\n",
        "    print(\"Standard Deviation:\", scores.std())\n",
        "    \n",
        "display_scores(tree_rmse_scores)"
      ],
      "metadata": {
        "colab": {
          "base_uri": "https://localhost:8080/"
        },
        "id": "4E_GneZXMxr8",
        "outputId": "284580d7-d6fb-42ca-92a8-315e7ae46a92"
      },
      "execution_count": 37,
      "outputs": [
        {
          "output_type": "stream",
          "name": "stdout",
          "text": [
            "scores: [71386.6925826  69882.02945132 68772.19768986 69825.33168067\n",
            " 69913.60650546 78248.80891723 71608.86055875 73189.66098203\n",
            " 67252.87381503 70865.53746553]\n",
            "Mean: 71094.55996484568\n",
            "Standard Deviation: 2839.0626091040563\n"
          ]
        }
      ]
    },
    {
      "cell_type": "code",
      "source": [
        "# score de la regression lineaire\n",
        "lin_scores = cross_val_score(lin_reg, housing_prepared, housing_labels, scoring=\"neg_mean_squared_error\",\n",
        "                        cv=10)\n",
        "\n",
        "lin_rmse_scores = np.sqrt(-lin_scores)\n",
        "display_scores(lin_rmse_scores)"
      ],
      "metadata": {
        "colab": {
          "base_uri": "https://localhost:8080/"
        },
        "id": "aBaRPLkBM22O",
        "outputId": "0da9091d-3bae-48cf-b483-e9809d3243b6"
      },
      "execution_count": 38,
      "outputs": [
        {
          "output_type": "stream",
          "name": "stdout",
          "text": [
            "scores: [71762.76364394 64114.99166359 67771.17124356 68635.19072082\n",
            " 66846.14089488 72528.03725385 73997.08050233 68802.33629334\n",
            " 66443.28836884 70139.79923956]\n",
            "Mean: 69104.07998247063\n",
            "Standard Deviation: 2880.3282098180634\n"
          ]
        }
      ]
    },
    {
      "cell_type": "code",
      "source": [
        "# Random Forest\n",
        "from sklearn.ensemble import RandomForestRegressor\n",
        "forest_reg = RandomForestRegressor()\n",
        "forest_reg.fit(housing_prepared, housing_labels)\n",
        "housing_predictions = forest_reg.predict(housing_prepared)\n",
        "forest_mse = mean_squared_error(housing_labels, housing_predictions)\n",
        "forest_rmse = np.sqrt(forest_mse)\n",
        "forest_rmse\n",
        "\n",
        "forest_scores = cross_val_score(forest_reg, housing_prepared, housing_labels, \n",
        "                                scoring=\"neg_mean_squared_error\",cv=10)\n",
        "forest_rmse_scores = np.sqrt(-forest_scores)\n",
        "display_scores(forest_rmse_scores)"
      ],
      "metadata": {
        "colab": {
          "base_uri": "https://localhost:8080/"
        },
        "id": "urrTC8cgM9TN",
        "outputId": "c7a3d63b-3fb9-428f-e71d-f531b023407c"
      },
      "execution_count": 39,
      "outputs": [
        {
          "output_type": "stream",
          "name": "stdout",
          "text": [
            "scores: [51716.52876368 49114.80898285 46722.07951914 52306.24560286\n",
            " 47558.2227504  51704.79227968 52314.04795392 49769.14333471\n",
            " 48748.34086446 53804.64711163]\n",
            "Mean: 50375.88571633351\n",
            "Standard Deviation: 2206.7931642458807\n"
          ]
        }
      ]
    },
    {
      "cell_type": "code",
      "source": [
        "from sklearn.model_selection import GridSearchCV\n",
        "param_grid = [\n",
        "    {'n_estimators': [3,10,30], 'max_features': [2,4,6,8]},\n",
        "    {'bootstrap': [False], 'n_estimators': [3,10], 'max_features': [2,3,4]}\n",
        "]\n",
        "forest_reg = RandomForestRegressor()\n",
        "grid_search = GridSearchCV(forest_reg, param_grid, cv=5, scoring='neg_mean_squared_error')\n",
        "grid_search.fit(housing_prepared, housing_labels)\n",
        "grid_search.best_params_\n",
        "grid_search.best_estimator_"
      ],
      "metadata": {
        "colab": {
          "base_uri": "https://localhost:8080/"
        },
        "id": "3JI0HfPkND-L",
        "outputId": "9cbaceed-85ff-48ca-b594-984ad3f53cf5"
      },
      "execution_count": 40,
      "outputs": [
        {
          "output_type": "execute_result",
          "data": {
            "text/plain": [
              "RandomForestRegressor(max_features=6, n_estimators=30)"
            ]
          },
          "metadata": {},
          "execution_count": 40
        }
      ]
    },
    {
      "cell_type": "code",
      "source": [
        "grid_search.best_params_"
      ],
      "metadata": {
        "colab": {
          "base_uri": "https://localhost:8080/"
        },
        "id": "vEFEKI-DNOWJ",
        "outputId": "9d4c1846-74db-4012-e81a-ce5b96c26847"
      },
      "execution_count": 41,
      "outputs": [
        {
          "output_type": "execute_result",
          "data": {
            "text/plain": [
              "{'max_features': 6, 'n_estimators': 30}"
            ]
          },
          "metadata": {},
          "execution_count": 41
        }
      ]
    },
    {
      "cell_type": "code",
      "source": [
        "grid_search.best_params_\n",
        "grid_search.best_estimator_\n",
        "cvres = grid_search.cv_results_\n",
        "for mean_score, params in zip(cvres[\"mean_test_score\"], cvres[\"params\"]):\n",
        "    print(np.sqrt(-mean_score), params)"
      ],
      "metadata": {
        "colab": {
          "base_uri": "https://localhost:8080/"
        },
        "id": "r4SS8aInNTe2",
        "outputId": "06c52c2d-1945-439f-98bc-118d2f70b32d"
      },
      "execution_count": 42,
      "outputs": [
        {
          "output_type": "stream",
          "name": "stdout",
          "text": [
            "62964.647810043294 {'max_features': 2, 'n_estimators': 3}\n",
            "55491.8758005023 {'max_features': 2, 'n_estimators': 10}\n",
            "52928.99728840813 {'max_features': 2, 'n_estimators': 30}\n",
            "59737.21927208477 {'max_features': 4, 'n_estimators': 3}\n",
            "52826.669305697484 {'max_features': 4, 'n_estimators': 10}\n",
            "50329.547186184216 {'max_features': 4, 'n_estimators': 30}\n",
            "58747.28429335071 {'max_features': 6, 'n_estimators': 3}\n",
            "52352.85426099821 {'max_features': 6, 'n_estimators': 10}\n",
            "49969.35789409789 {'max_features': 6, 'n_estimators': 30}\n",
            "58700.3352760964 {'max_features': 8, 'n_estimators': 3}\n",
            "52042.22671189716 {'max_features': 8, 'n_estimators': 10}\n",
            "50145.0798463569 {'max_features': 8, 'n_estimators': 30}\n",
            "62254.618269118335 {'bootstrap': False, 'max_features': 2, 'n_estimators': 3}\n",
            "54109.55977528157 {'bootstrap': False, 'max_features': 2, 'n_estimators': 10}\n",
            "60668.96347400298 {'bootstrap': False, 'max_features': 3, 'n_estimators': 3}\n",
            "52743.53742641 {'bootstrap': False, 'max_features': 3, 'n_estimators': 10}\n",
            "57265.33678477289 {'bootstrap': False, 'max_features': 4, 'n_estimators': 3}\n",
            "51338.41190379687 {'bootstrap': False, 'max_features': 4, 'n_estimators': 10}\n"
          ]
        }
      ]
    },
    {
      "cell_type": "code",
      "source": [
        "#importance de chaque attributs\n",
        "feature_importance = grid_search.best_estimator_.feature_importances_\n",
        "feature_importance"
      ],
      "metadata": {
        "colab": {
          "base_uri": "https://localhost:8080/"
        },
        "id": "mAcCzjPQNXsK",
        "outputId": "3f4f3788-650f-419d-c8cc-f2f65545310a"
      },
      "execution_count": 43,
      "outputs": [
        {
          "output_type": "execute_result",
          "data": {
            "text/plain": [
              "array([7.56624611e-02, 6.54089649e-02, 4.50608016e-02, 1.84670936e-02,\n",
              "       1.64423712e-02, 1.82861490e-02, 1.65610165e-02, 3.33513633e-01,\n",
              "       6.52697018e-02, 1.07141353e-01, 7.36395856e-02, 1.24591423e-02,\n",
              "       1.41944578e-01, 4.14489333e-05, 4.04193155e-03, 6.05976823e-03])"
            ]
          },
          "metadata": {},
          "execution_count": 43
        }
      ]
    },
    {
      "cell_type": "code",
      "source": [],
      "metadata": {
        "id": "BL5FpIitkdOf"
      },
      "execution_count": null,
      "outputs": []
    },
    {
      "cell_type": "code",
      "source": [
        "extra_attribs = [\"rooms_per_hhold\", \"pop_per_hhold\", \"bedrooms_per_room\"]\n",
        "cat_one_hot_attribs = list(encoder.classes_)\n",
        "cat_one_hot_attribs\n",
        "attributes = num_attribs + extra_attribs + cat_one_hot_attribs\n",
        "sorted (zip(feature_importance, attributes), reverse=True)"
      ],
      "metadata": {
        "colab": {
          "base_uri": "https://localhost:8080/"
        },
        "id": "UFETgrleNiYA",
        "outputId": "1439a097-d506-4336-8c4f-02057b5a5125"
      },
      "execution_count": 44,
      "outputs": [
        {
          "output_type": "execute_result",
          "data": {
            "text/plain": [
              "[(0.33351363258240224, 'median_income'),\n",
              " (0.14194457765226923, 'INLAND'),\n",
              " (0.10714135346262091, 'pop_per_hhold'),\n",
              " (0.0756624610782566, 'longitude'),\n",
              " (0.07363958556221671, 'bedrooms_per_room'),\n",
              " (0.06540896487650785, 'latitude'),\n",
              " (0.0652697018284685, 'rooms_per_hhold'),\n",
              " (0.0450608015754875, 'housing_median_age'),\n",
              " (0.018467093611770687, 'total_rooms'),\n",
              " (0.018286149020844068, 'population'),\n",
              " (0.016561016543973534, 'households'),\n",
              " (0.01644237123395746, 'total_bedrooms'),\n",
              " (0.012459142256604836, '<1H OCEAN'),\n",
              " (0.00605976822858613, 'NEAR OCEAN'),\n",
              " (0.004041931552738025, 'NEAR BAY'),\n",
              " (4.144893329567038e-05, 'ISLAND')]"
            ]
          },
          "metadata": {},
          "execution_count": 44
        }
      ]
    },
    {
      "cell_type": "code",
      "source": [
        "#  evaluation du model\n",
        "final_model = grid_search.best_estimator_\n",
        "X_test = strat_test_set.drop(\"median_house_value\", axis = 1)\n",
        "y_test = strat_test_set[\"median_house_value\"].copy()\n",
        "\n",
        "X_test_prepared = full_pipeline.transform(X_test)\n",
        "final_predictions = final_model.predict(X_test_prepared)\n",
        "final_mse = mean_squared_error(y_test, final_predictions)\n",
        "final_rmse = np.sqrt(final_mse)\n",
        "final_rmse"
      ],
      "metadata": {
        "colab": {
          "base_uri": "https://localhost:8080/"
        },
        "id": "-mikBQH2Nnox",
        "outputId": "69a099db-9091-467b-d1f7-c766554a45b6"
      },
      "execution_count": 45,
      "outputs": [
        {
          "output_type": "execute_result",
          "data": {
            "text/plain": [
              "48256.316630275076"
            ]
          },
          "metadata": {},
          "execution_count": 45
        }
      ]
    }
  ],
  "metadata": {
    "kernelspec": {
      "display_name": "Python 3",
      "language": "python",
      "name": "python3"
    },
    "language_info": {
      "codemirror_mode": {
        "name": "ipython",
        "version": 3
      },
      "file_extension": ".py",
      "mimetype": "text/x-python",
      "name": "python",
      "nbconvert_exporter": "python",
      "pygments_lexer": "ipython3",
      "version": "3.11.1"
    },
    "orig_nbformat": 4,
    "vscode": {
      "interpreter": {
        "hash": "3681e2b21047604e627ab365f8dbb93d9489b234000235d1f1fd38fd6c3cb0aa"
      }
    },
    "colab": {
      "provenance": []
    }
  },
  "nbformat": 4,
  "nbformat_minor": 0
}